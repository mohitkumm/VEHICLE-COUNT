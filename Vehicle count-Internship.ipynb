{
 "cells": [
  {
   "cell_type": "code",
   "execution_count": 1,
   "metadata": {},
   "outputs": [],
   "source": [
    "import cv2\n",
    "import numpy as np"
   ]
  },
  {
   "cell_type": "code",
   "execution_count": 2,
   "metadata": {},
   "outputs": [],
   "source": [
    "cap = cv2.VideoCapture('video_Arab_Easy.mp4') \n",
    "vehicle =0\n",
    "matches =[]\n",
    "\n",
    "def get_center(x, y, w, h):\n",
    "    x1 = int(w / 2)\n",
    "    y1 = int(h / 2)\n",
    "\n",
    "    cx = x + x1\n",
    "    cy = y + y1\n",
    "    return cx,cy\n",
    "\n",
    "object_detector = cv2.createBackgroundSubtractorMOG2(history= 100, varThreshold=300)"
   ]
  },
  {
   "cell_type": "code",
   "execution_count": 3,
   "metadata": {
    "scrolled": true
   },
   "outputs": [
    {
     "name": "stdout",
     "output_type": "stream",
     "text": [
      "vehicle is detected:1\n",
      "vehicle is detected:2\n",
      "vehicle is detected:3\n",
      "vehicle is detected:4\n",
      "vehicle is detected:5\n",
      "vehicle is detected:6\n",
      "vehicle is detected:7\n",
      "vehicle is detected:8\n",
      "vehicle is detected:9\n",
      "vehicle is detected:10\n",
      "vehicle is detected:11\n",
      "vehicle is detected:12\n",
      "vehicle is detected:13\n",
      "vehicle is detected:14\n",
      "vehicle is detected:15\n",
      "vehicle is detected:16\n",
      "vehicle is detected:17\n",
      "vehicle is detected:18\n",
      "vehicle is detected:19\n",
      "vehicle is detected:20\n",
      "vehicle is detected:21\n",
      "vehicle is detected:22\n",
      "vehicle is detected:23\n",
      "vehicle is detected:24\n",
      "vehicle is detected:25\n",
      "vehicle is detected:26\n",
      "vehicle is detected:27\n",
      "vehicle is detected:28\n",
      "vehicle is detected:29\n",
      "vehicle is detected:30\n",
      "vehicle is detected:31\n",
      "vehicle is detected:32\n",
      "vehicle is detected:33\n",
      "vehicle is detected:34\n",
      "vehicle is detected:35\n",
      "vehicle is detected:36\n",
      "vehicle is detected:37\n",
      "vehicle is detected:38\n",
      "vehicle is detected:39\n",
      "vehicle is detected:40\n",
      "vehicle is detected:41\n",
      "vehicle is detected:42\n",
      "vehicle is detected:43\n",
      "vehicle is detected:44\n",
      "vehicle is detected:45\n",
      "vehicle is detected:46\n",
      "vehicle is detected:47\n",
      "vehicle is detected:48\n",
      "vehicle is detected:49\n",
      "vehicle is detected:50\n",
      "vehicle is detected:51\n",
      "vehicle is detected:52\n",
      "vehicle is detected:53\n",
      "vehicle is detected:54\n",
      "vehicle is detected:55\n",
      "vehicle is detected:56\n",
      "vehicle is detected:57\n",
      "vehicle is detected:58\n",
      "vehicle is detected:59\n",
      "vehicle is detected:60\n"
     ]
    },
    {
     "ename": "AttributeError",
     "evalue": "'NoneType' object has no attribute 'shape'",
     "output_type": "error",
     "traceback": [
      "\u001b[1;31m---------------------------------------------------------------------------\u001b[0m",
      "\u001b[1;31mAttributeError\u001b[0m                            Traceback (most recent call last)",
      "\u001b[1;32m<ipython-input-3-03fe8de7ceaa>\u001b[0m in \u001b[0;36m<module>\u001b[1;34m\u001b[0m\n\u001b[0;32m      3\u001b[0m \u001b[1;33m\u001b[0m\u001b[0m\n\u001b[0;32m      4\u001b[0m \u001b[1;33m\u001b[0m\u001b[0m\n\u001b[1;32m----> 5\u001b[1;33m     \u001b[0mheight\u001b[0m\u001b[1;33m,\u001b[0m \u001b[0mwidth\u001b[0m\u001b[1;33m,\u001b[0m \u001b[0m_\u001b[0m \u001b[1;33m=\u001b[0m \u001b[0mframe\u001b[0m\u001b[1;33m.\u001b[0m\u001b[0mshape\u001b[0m\u001b[1;33m\u001b[0m\u001b[1;33m\u001b[0m\u001b[0m\n\u001b[0m\u001b[0;32m      6\u001b[0m \u001b[1;33m\u001b[0m\u001b[0m\n\u001b[0;32m      7\u001b[0m \u001b[1;33m\u001b[0m\u001b[0m\n",
      "\u001b[1;31mAttributeError\u001b[0m: 'NoneType' object has no attribute 'shape'"
     ]
    }
   ],
   "source": [
    "while True:\n",
    "    ret, frame = cap.read()\n",
    "     \n",
    "        \n",
    "    height, width, _ = frame.shape\n",
    "\n",
    "\n",
    "    roi= frame[0: , 1080: ]\n",
    "\n",
    "    mask = object_detector.apply(roi)\n",
    "    _, mask= cv2.threshold(mask, 254, 255, cv2.THRESH_BINARY)\n",
    "    kernel = np.ones((5,5), np.uint8)\n",
    "\n",
    "    img_dilation = cv2.dilate(mask, kernel, iterations=1)\n",
    "    img_erosion = cv2.erode(img_dilation, kernel, iterations=1)\n",
    "    img_erosion = cv2.medianBlur(img_erosion, 7)\n",
    "\n",
    "    contours , _ = cv2.findContours(img_erosion, cv2.RETR_TREE, cv2.CHAIN_APPROX_SIMPLE)\n",
    "    detections= []\n",
    "\n",
    "    cv2.line (roi, (0, 300), (800, 500), (255,127,0), 2)\n",
    "    for (i, c) in enumerate (contours):\n",
    "        (x, y, w, h) = cv2.boundingRect (c)\n",
    "        validate_outline = (w >= 50) and (h >= 50)\n",
    "        if not validate_outline:\n",
    "            continue\n",
    "\n",
    "        cv2.rectangle (roi, (x, y), (x + w, y + h), (0,255,0), 2)\n",
    "        center = get_center (x, y, w, h)\n",
    "        detections.append (center)\n",
    "        cv2.circle (roi, center, 4, (0, 0,255), -1)\n",
    "\n",
    "        for (x, y) in detections:\n",
    "            if y <(300 + 4) and y> (300-4):\n",
    "                vehicle += 1\n",
    "                cv2.line (roi, (0, 300), (800, 500), (0,127,255), 2)\n",
    "                detections.remove ((x, y))\n",
    "                print (\"vehicle is detected:\" + str (vehicle))\n",
    "\n",
    "\n",
    "    cv2.putText (roi, \"VEHICLE COUNT:\" + str (vehicle), (450, 70), cv2.FONT_HERSHEY_SIMPLEX, 1, (0, 0, 255), 5)\n",
    "    cv2.imshow('roi', roi)\n",
    "\n",
    "\n",
    "    key = cv2.waitKey(30)\n",
    "    if key == 27:\n",
    "        break\n",
    "\n",
    "   "
   ]
  },
  {
   "cell_type": "code",
   "execution_count": null,
   "metadata": {},
   "outputs": [],
   "source": [
    "cap.release()\n",
    "cv2.destroyAllWindows()"
   ]
  },
  {
   "cell_type": "code",
   "execution_count": null,
   "metadata": {},
   "outputs": [],
   "source": []
  },
  {
   "cell_type": "code",
   "execution_count": null,
   "metadata": {},
   "outputs": [],
   "source": []
  }
 ],
 "metadata": {
  "kernelspec": {
   "display_name": "Python 3",
   "language": "python",
   "name": "python3"
  },
  "language_info": {
   "codemirror_mode": {
    "name": "ipython",
    "version": 3
   },
   "file_extension": ".py",
   "mimetype": "text/x-python",
   "name": "python",
   "nbconvert_exporter": "python",
   "pygments_lexer": "ipython3",
   "version": "3.8.5"
  }
 },
 "nbformat": 4,
 "nbformat_minor": 4
}
